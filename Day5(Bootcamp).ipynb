{
 "cells": [
  {
   "cell_type": "markdown",
   "id": "2ed53c66-89b3-4dcc-93fd-b48f68e5d39a",
   "metadata": {},
   "source": [
    "# Comparison Operator:-"
   ]
  },
  {
   "cell_type": "markdown",
   "id": "f43adf05-764c-46fd-84a2-717b0add6158",
   "metadata": {},
   "source": [
    "### Comparison operators are used to compare two values.They always return a Boolean value: True or False."
   ]
  },
  {
   "cell_type": "code",
   "execution_count": 2,
   "id": "06d2d283-e50a-4803-9ce8-43979b0ce7cf",
   "metadata": {},
   "outputs": [],
   "source": [
    "# Example:-\n",
    "\n",
    "a = 10\n",
    "b = 20"
   ]
  },
  {
   "cell_type": "code",
   "execution_count": 3,
   "id": "10e11d56-3cf8-48a5-88df-b5bf8ce31cf5",
   "metadata": {},
   "outputs": [
    {
     "name": "stdout",
     "output_type": "stream",
     "text": [
      "False\n"
     ]
    }
   ],
   "source": [
    "print(a == b)"
   ]
  },
  {
   "cell_type": "code",
   "execution_count": 4,
   "id": "03e419b1-50c1-480a-8775-e451eb40694a",
   "metadata": {},
   "outputs": [
    {
     "name": "stdout",
     "output_type": "stream",
     "text": [
      "True\n"
     ]
    }
   ],
   "source": [
    "print(a < b)"
   ]
  },
  {
   "cell_type": "code",
   "execution_count": 5,
   "id": "3a5f1d6e-df96-4a69-a231-ec2ea1f153e3",
   "metadata": {},
   "outputs": [
    {
     "name": "stdout",
     "output_type": "stream",
     "text": [
      "False\n"
     ]
    }
   ],
   "source": [
    "print(a > b)"
   ]
  },
  {
   "cell_type": "code",
   "execution_count": 6,
   "id": "15ce12db-1aac-4913-b81d-0894338ec581",
   "metadata": {},
   "outputs": [
    {
     "name": "stdout",
     "output_type": "stream",
     "text": [
      "True\n"
     ]
    }
   ],
   "source": [
    "print(a <= b)"
   ]
  },
  {
   "cell_type": "code",
   "execution_count": 7,
   "id": "9e5cbf7a-cc52-4084-af0d-3d272bdd908a",
   "metadata": {},
   "outputs": [
    {
     "name": "stdout",
     "output_type": "stream",
     "text": [
      "False\n"
     ]
    }
   ],
   "source": [
    "print(a >= b)"
   ]
  },
  {
   "cell_type": "code",
   "execution_count": 8,
   "id": "88fb896f-3447-4327-a766-05c4c07a7c4c",
   "metadata": {},
   "outputs": [
    {
     "name": "stdout",
     "output_type": "stream",
     "text": [
      "True\n"
     ]
    }
   ],
   "source": [
    "print(a != b)"
   ]
  },
  {
   "cell_type": "code",
   "execution_count": null,
   "id": "0e8b375d-259f-41d2-bbc8-3c412d73f657",
   "metadata": {},
   "outputs": [],
   "source": [
    "## boolean operations:-\n",
    "\n",
    "OR AND NOT XOR"
   ]
  }
 ],
 "metadata": {
  "kernelspec": {
   "display_name": "Python 3 (ipykernel)",
   "language": "python",
   "name": "python3"
  },
  "language_info": {
   "codemirror_mode": {
    "name": "ipython",
    "version": 3
   },
   "file_extension": ".py",
   "mimetype": "text/x-python",
   "name": "python",
   "nbconvert_exporter": "python",
   "pygments_lexer": "ipython3",
   "version": "3.12.7"
  }
 },
 "nbformat": 4,
 "nbformat_minor": 5
}
