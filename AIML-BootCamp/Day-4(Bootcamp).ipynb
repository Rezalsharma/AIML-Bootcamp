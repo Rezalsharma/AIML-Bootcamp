{
 "cells": [
  {
   "cell_type": "markdown",
   "id": "4b0a4e1f-2c98-4f7c-9417-f2186eb690a8",
   "metadata": {},
   "source": [
    "# Functions:-"
   ]
  },
  {
   "cell_type": "markdown",
   "id": "4cb247d7-6787-4838-ad7a-72dafafc5c08",
   "metadata": {},
   "source": [
    " ### function is a reusable block of code that performs a specific task.\n",
    "### It helps make code cleaner, reusable, and easier to manage.\n",
    "\n"
   ]
  },
  {
   "cell_type": "markdown",
   "id": "63825cd6-28e9-4138-b7e8-7c7d5fc92341",
   "metadata": {},
   "source": [
    "## Fuction call:-"
   ]
  },
  {
   "cell_type": "code",
   "execution_count": 2,
   "id": "da3733f0-6cf0-47b5-b0c6-f6590ce4c9ab",
   "metadata": {},
   "outputs": [
    {
     "name": "stdout",
     "output_type": "stream",
     "text": [
      "Hello, world!\n"
     ]
    }
   ],
   "source": [
    "def greet():\n",
    "    print(\"Hello, world!\")\n",
    "\n",
    "greet()  # Calling the function"
   ]
  },
  {
   "cell_type": "markdown",
   "id": "fa02f3c5-d641-471b-a586-ffc82aeab655",
   "metadata": {},
   "source": [
    "## Pass arguments to a function, save value in a variable x"
   ]
  },
  {
   "cell_type": "code",
   "execution_count": 6,
   "id": "22466195-e006-4a00-8410-3f5a4d54824a",
   "metadata": {},
   "outputs": [
    {
     "name": "stdout",
     "output_type": "stream",
     "text": [
      "15\n",
      "<class 'int'>\n"
     ]
    }
   ],
   "source": [
    "x = sum(5, 10) # function call\n",
    "\n",
    "print(x)\n",
    "print(type(x))"
   ]
  },
  {
   "cell_type": "code",
   "execution_count": 3,
   "id": "476f3015-b1de-44f6-92c7-9acb97b17be4",
   "metadata": {},
   "outputs": [],
   "source": [
    "# function definition\n",
    "# function a,b => parameters\n",
    "def sum(a,b):\n",
    "    y = a + b\n",
    "    return y"
   ]
  },
  {
   "cell_type": "code",
   "execution_count": 9,
   "id": "471c041f-9bee-4c38-956c-3d7262edf40d",
   "metadata": {},
   "outputs": [
    {
     "name": "stdout",
     "output_type": "stream",
     "text": [
      "15 5 50 2.0 0 2 100000\n"
     ]
    }
   ],
   "source": [
    "def calulator(a,b):\n",
    "    p = a + b\n",
    "    q = a - b\n",
    "    r = a * b\n",
    "    s = a / b\n",
    "    t = a % b\n",
    "    u = a // b\n",
    "    v = a ** b\n",
    "\n",
    "    return p, q, r, s, t, u, v\n",
    "\n",
    "# Example usage\n",
    "a, b, c, d, e, f, g = calulator(10, 5)\n",
    "print(a, b, c, d, e, f, g)"
   ]
  },
  {
   "cell_type": "code",
   "execution_count": 11,
   "id": "fb2070fb-6e3b-45e6-bb2f-daf8341c7f9d",
   "metadata": {},
   "outputs": [
    {
     "name": "stdout",
     "output_type": "stream",
     "text": [
      "(20, -10, 75, 0.3333333333333333, 5, 0, 30517578125)\n",
      "<class 'tuple'>\n"
     ]
    }
   ],
   "source": [
    "X = calulator(5,15)\n",
    "print(X)\n",
    "print(type(X))"
   ]
  },
  {
   "cell_type": "code",
   "execution_count": 12,
   "id": "6e487d7d-28ad-46ef-90f4-d366f998c37e",
   "metadata": {},
   "outputs": [],
   "source": [
    "def sum(a,b):\n",
    "    y = a + b\n",
    "    z = a - b\n",
    "    return y, z"
   ]
  },
  {
   "cell_type": "code",
   "execution_count": 13,
   "id": "6896ec60-e244-4d78-8f84-07f077a345f3",
   "metadata": {},
   "outputs": [
    {
     "name": "stdout",
     "output_type": "stream",
     "text": [
      "46656\n",
      "5\n",
      "16\n",
      "1000\n"
     ]
    }
   ],
   "source": [
    "x = lambda y: y**y\n",
    "g = x(6)\n",
    "print(g)\n",
    "\n",
    "\n",
    "p = lambda a,b,c: a + b\n",
    "print(p(2,3,4))\n",
    "\n",
    "\n",
    "num = lambda num: num**num**num\n",
    "\n",
    "print(num(2))\n",
    "\n",
    "\n",
    "x = lambda a,b,c: a * b * c\n",
    "\n",
    "i = x(10,10,10)\n",
    "print(i)\n",
    "\n",
    "\n",
    "u = 10*10*10"
   ]
  },
  {
   "cell_type": "code",
   "execution_count": 14,
   "id": "e2d7d156-c5ed-458f-8217-37d0d11b3fa1",
   "metadata": {},
   "outputs": [],
   "source": [
    "def fact(num):\n",
    "    if num == 0:\n",
    "        return 1\n",
    "    return num * fact(num - 1)\n",
    "    "
   ]
  },
  {
   "cell_type": "code",
   "execution_count": 15,
   "id": "a81dc396-4a20-4494-8301-55b2a44c868f",
   "metadata": {},
   "outputs": [
    {
     "name": "stdout",
     "output_type": "stream",
     "text": [
      "120\n"
     ]
    }
   ],
   "source": [
    "# Example usage\n",
    "print(fact(5))  # Output: 120"
   ]
  },
  {
   "cell_type": "code",
   "execution_count": null,
   "id": "6916625c-2fd3-4617-a4bb-6b3ba19ae304",
   "metadata": {},
   "outputs": [],
   "source": []
  }
 ],
 "metadata": {
  "kernelspec": {
   "display_name": "Python 3 (ipykernel)",
   "language": "python",
   "name": "python3"
  },
  "language_info": {
   "codemirror_mode": {
    "name": "ipython",
    "version": 3
   },
   "file_extension": ".py",
   "mimetype": "text/x-python",
   "name": "python",
   "nbconvert_exporter": "python",
   "pygments_lexer": "ipython3",
   "version": "3.12.7"
  }
 },
 "nbformat": 4,
 "nbformat_minor": 5
}
