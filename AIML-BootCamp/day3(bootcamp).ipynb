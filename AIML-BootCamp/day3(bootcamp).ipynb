{
 "cells": [
  {
   "cell_type": "markdown",
   "id": "70e1cf17-f21d-410f-9487-5247d97aac24",
   "metadata": {},
   "source": [
    "# Python basics:-"
   ]
  },
  {
   "cell_type": "markdown",
   "id": "b04fd044-6273-471b-83b9-e4774db4bac9",
   "metadata": {},
   "source": [
    "## Definition\n",
    "### \"Python is an interpreted, object-oriented, high-level programming language with dynamic semantics.\""
   ]
  },
  {
   "cell_type": "markdown",
   "id": "939219f5-9ac3-46a6-a9f0-7413d9183e92",
   "metadata": {},
   "source": [
    "### Display Statement:-"
   ]
  },
  {
   "cell_type": "code",
   "execution_count": 7,
   "id": "5ddea8c9-22b3-4551-adab-274093a0c8b7",
   "metadata": {},
   "outputs": [
    {
     "name": "stdout",
     "output_type": "stream",
     "text": [
      "Hello, World!\n",
      "Hello, World!\n"
     ]
    },
    {
     "data": {
      "text/plain": [
       "'Hello, World!'"
      ]
     },
     "execution_count": 7,
     "metadata": {},
     "output_type": "execute_result"
    }
   ],
   "source": [
    "#1. Hello World Program\n",
    "#The most basic program in Python is printing \"Hello, World!\" on the screen:\n",
    "#Print function:The print() function is used to display output on the screen.\n",
    "\n",
    "#when used double quotes:\n",
    "print(\"Hello, World!\")\n",
    "\n",
    "#when used single quotes:\n",
    "print('Hello, World!')\n",
    "\n",
    "#printing without using print function:\n",
    "\n",
    "#using single quote:\n",
    "\"Hello, World!\"\n",
    "#it gives output with single quotes only\n",
    "\n",
    "#using Double quote:\n",
    "'Hello, World!'"
   ]
  },
  {
   "cell_type": "markdown",
   "id": "7c574a2f-edcb-4e36-987a-fc872b35e7cf",
   "metadata": {},
   "source": [
    "## Data Types:-"
   ]
  },
  {
   "cell_type": "markdown",
   "id": "85144baa-f30f-4cfa-a481-32883958585b",
   "metadata": {},
   "source": [
    "### String:-"
   ]
  },
  {
   "cell_type": "code",
   "execution_count": 12,
   "id": "4497768a-bd32-46ce-8c94-37ef13af5c76",
   "metadata": {},
   "outputs": [
    {
     "name": "stdin",
     "output_type": "stream",
     "text": [
      "Enter your name:  Rezal\n"
     ]
    },
    {
     "name": "stdout",
     "output_type": "stream",
     "text": [
      "Name: Rezal\n"
     ]
    },
    {
     "name": "stdin",
     "output_type": "stream",
     "text": [
      "Enter your Age: 18\n"
     ]
    },
    {
     "name": "stdout",
     "output_type": "stream",
     "text": [
      "Age: 18\n"
     ]
    },
    {
     "name": "stdin",
     "output_type": "stream",
     "text": [
      "Enter a float number: 18.5\n"
     ]
    },
    {
     "name": "stdout",
     "output_type": "stream",
     "text": [
      "Float number : 18.5\n"
     ]
    }
   ],
   "source": [
    "#Taking Input from the User:-\n",
    "#Python allows user input using the input() function:\n",
    "\n",
    "#input a String:\n",
    "name = input(\"Enter your name: \")\n",
    "print(\"Name:\",name)"
   ]
  },
  {
   "cell_type": "markdown",
   "id": "b11a7162-2f25-498e-9629-c345d17282b2",
   "metadata": {},
   "source": [
    "### Number:-"
   ]
  },
  {
   "cell_type": "code",
   "execution_count": null,
   "id": "d5e0e2fe-f761-4169-8aa0-8c4c7fd4a8cf",
   "metadata": {},
   "outputs": [],
   "source": [
    "#Input a Integer:(used type casting)\n",
    "age=int(input(\"Enter your Age:\"))\n",
    "print(\"Age:\",age)\n",
    "\n",
    "#Input a float number:(used type casting)\n",
    "number=float(input(\"Enter a float number:\"))\n",
    "print(\"Float number :\",number)\n",
    "                   \n",
    "#Note: input() always returns a string, so you may need to convert it using int() or float() when dealing with numbers."
   ]
  },
  {
   "cell_type": "markdown",
   "id": "024001f5-5ff9-49e8-9c0c-45b4465b404c",
   "metadata": {},
   "source": [
    "### Boolean:-"
   ]
  },
  {
   "cell_type": "code",
   "execution_count": 13,
   "id": "bba1dc76-15bd-4dd3-81ad-17bdcab4daaa",
   "metadata": {},
   "outputs": [
    {
     "name": "stdout",
     "output_type": "stream",
     "text": [
      "True\n",
      "True\n",
      "False\n"
     ]
    }
   ],
   "source": [
    " #Boolean from Comparisons:-\n",
    "x = 10\n",
    "print(x > 5)  \n",
    "print(x == 10)\n",
    "print(x < 3)"
   ]
  },
  {
   "cell_type": "code",
   "execution_count": 15,
   "id": "62545eae-08f3-46ec-834d-e6e629d37d33",
   "metadata": {},
   "outputs": [
    {
     "name": "stdout",
     "output_type": "stream",
     "text": [
      "False\n",
      "True\n",
      "False\n",
      "True\n"
     ]
    }
   ],
   "source": [
    "#Using bool() Function:-\n",
    "\n",
    "print(bool(0))\n",
    "print(bool(123))\n",
    "print(bool(\"\"))\n",
    "print(bool(\"hello\"))"
   ]
  }
 ],
 "metadata": {
  "kernelspec": {
   "display_name": "Python 3 (ipykernel)",
   "language": "python",
   "name": "python3"
  },
  "language_info": {
   "codemirror_mode": {
    "name": "ipython",
    "version": 3
   },
   "file_extension": ".py",
   "mimetype": "text/x-python",
   "name": "python",
   "nbconvert_exporter": "python",
   "pygments_lexer": "ipython3",
   "version": "3.12.7"
  }
 },
 "nbformat": 4,
 "nbformat_minor": 5
}
