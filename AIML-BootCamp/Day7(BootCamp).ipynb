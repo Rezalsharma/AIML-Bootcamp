{
 "cells": [
  {
   "cell_type": "code",
   "execution_count": 1,
   "id": "b3fff666-a3c2-4c25-8bd3-8b8707d9e00c",
   "metadata": {},
   "outputs": [],
   "source": [
    "import pandas as pd"
   ]
  },
  {
   "cell_type": "code",
   "execution_count": 2,
   "id": "3c30c1af-f8ca-47e1-bdf5-ffbb00d091c0",
   "metadata": {},
   "outputs": [
    {
     "name": "stdout",
     "output_type": "stream",
     "text": [
      "   Roll Number Student_name  Math  English  Punjabi  Hindi\n",
      "0            1        Rezal    64       33       66     65\n",
      "1            2        Kirti    37       34       76     67\n",
      "2            3      Deepika    35       56       87     78\n",
      "3            4       Suhana    70       65       54     85\n"
     ]
    }
   ],
   "source": [
    "student_data= {\n",
    "    'Roll Number':[1,2,3,4],\n",
    "    'Student_name':['Rezal','Kirti','Deepika','Suhana'],\n",
    "    'Math':[64,37,35,70],\n",
    "    'English':[33,34,56,65],\n",
    "    'Punjabi':[66,76,87,54],\n",
    "    'Hindi':[65,67,78,85],\n",
    "    \n",
    "}\n",
    "df=pd.DataFrame(student_data)\n",
    "\n",
    "print(df)"
   ]
  },
  {
   "cell_type": "code",
   "execution_count": 3,
   "id": "8262a009-3aad-40c7-8320-69e6e633ae6e",
   "metadata": {},
   "outputs": [],
   "source": [
    "df.to_csv('stu_data.csv',index=False)"
   ]
  },
  {
   "cell_type": "code",
   "execution_count": 5,
   "id": "d34dd9a1-9543-463a-b9c0-97ce6acc8604",
   "metadata": {},
   "outputs": [
    {
     "name": "stdout",
     "output_type": "stream",
     "text": [
      "   Roll Number Student_name  Math  English  Punjabi  Hindi\n",
      "0            1        Rezal    64       33       66     65\n",
      "1            2        Kirti    37       34       76     67\n",
      "2            3      Deepika    35       56       87     78\n",
      "3            4       Suhana    70       65       54     85\n"
     ]
    }
   ],
   "source": [
    "df = pd.read_csv('stu_data.csv')\n",
    "\n",
    "print(df)"
   ]
  },
  {
   "cell_type": "code",
   "execution_count": 6,
   "id": "30102e89-57d5-43fc-96f3-9fec991946be",
   "metadata": {},
   "outputs": [
    {
     "name": "stdout",
     "output_type": "stream",
     "text": [
      "  Student_name  English  Punjabi  Hindi\n",
      "0        Rezal       33       66     65\n",
      "1        Kirti       34       76     67\n",
      "2      Deepika       56       87     78\n",
      "3       Suhana       65       54     85\n"
     ]
    }
   ],
   "source": [
    "df_new=df.drop(columns=['Roll Number','Math'])\n",
    "print(df_new)"
   ]
  },
  {
   "cell_type": "code",
   "execution_count": null,
   "id": "f86ae429-8e6e-4f8d-a037-f6afb3415ac8",
   "metadata": {},
   "outputs": [],
   "source": []
  }
 ],
 "metadata": {
  "kernelspec": {
   "display_name": "Python 3 (ipykernel)",
   "language": "python",
   "name": "python3"
  },
  "language_info": {
   "codemirror_mode": {
    "name": "ipython",
    "version": 3
   },
   "file_extension": ".py",
   "mimetype": "text/x-python",
   "name": "python",
   "nbconvert_exporter": "python",
   "pygments_lexer": "ipython3",
   "version": "3.12.7"
  }
 },
 "nbformat": 4,
 "nbformat_minor": 5
}
