{
 "cells": [
  {
   "cell_type": "code",
   "execution_count": 1,
   "id": "3ae2634e-2f37-4cef-ba92-03d5fd6fea15",
   "metadata": {},
   "outputs": [
    {
     "name": "stdout",
     "output_type": "stream",
     "text": [
      "Requirement already satisfied: pandas in c:\\users\\abc\\anaconda3\\lib\\site-packages (2.2.2)\n",
      "Requirement already satisfied: numpy>=1.26.0 in c:\\users\\abc\\anaconda3\\lib\\site-packages (from pandas) (1.26.4)\n",
      "Requirement already satisfied: python-dateutil>=2.8.2 in c:\\users\\abc\\anaconda3\\lib\\site-packages (from pandas) (2.9.0.post0)\n",
      "Requirement already satisfied: pytz>=2020.1 in c:\\users\\abc\\anaconda3\\lib\\site-packages (from pandas) (2024.1)\n",
      "Requirement already satisfied: tzdata>=2022.7 in c:\\users\\abc\\anaconda3\\lib\\site-packages (from pandas) (2023.3)\n",
      "Requirement already satisfied: six>=1.5 in c:\\users\\abc\\anaconda3\\lib\\site-packages (from python-dateutil>=2.8.2->pandas) (1.16.0)\n"
     ]
    }
   ],
   "source": [
    "!pip install pandas"
   ]
  },
  {
   "cell_type": "markdown",
   "id": "3d5630eb-fc92-412b-9c2d-dd16e16a918f",
   "metadata": {},
   "source": [
    "# Save student marks to a CSV file using pandas"
   ]
  },
  {
   "cell_type": "code",
   "execution_count": 6,
   "id": "76124ed5-b3f1-4495-96f5-0c4cc3f87fff",
   "metadata": {},
   "outputs": [
    {
     "name": "stdout",
     "output_type": "stream",
     "text": [
      "      Name  chemistry  physics  maths\n",
      "0  Deepika         44       88     56\n",
      "1    Rezal         44       86     46\n",
      "2   Suhana         55       95     77\n",
      "3  Kanchan         77       48     94\n",
      "4    Kirti         88       56     98\n"
     ]
    }
   ],
   "source": [
    "import pandas as pd\n",
    "Marks={\n",
    "    'Name':['Deepika','Rezal','Suhana','Kanchan','Kirti'],\n",
    "    'chemistry':[44,44,55,77,88],\n",
    "    'physics':[88,86,95,48,56],\n",
    "    'maths':[56,46,77,94,98]\n",
    "}\n",
    "df=pd.DataFrame(Marks)\n",
    "df.to_csv('students_marks.csv',\n",
    "          index=False)\n",
    "print(df)"
   ]
  }
 ],
 "metadata": {
  "kernelspec": {
   "display_name": "Python 3 (ipykernel)",
   "language": "python",
   "name": "python3"
  },
  "language_info": {
   "codemirror_mode": {
    "name": "ipython",
    "version": 3
   },
   "file_extension": ".py",
   "mimetype": "text/x-python",
   "name": "python",
   "nbconvert_exporter": "python",
   "pygments_lexer": "ipython3",
   "version": "3.12.7"
  }
 },
 "nbformat": 4,
 "nbformat_minor": 5
}
