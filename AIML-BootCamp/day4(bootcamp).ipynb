{
 "cells": [
  {
   "cell_type": "markdown",
   "id": "224614a3-bf6a-4eda-a70e-cbcfb71d09c4",
   "metadata": {},
   "source": [
    "# How many decimal no.s represented by 6 hexa decimalplaces."
   ]
  },
  {
   "cell_type": "code",
   "execution_count": 3,
   "id": "d2b0ba61-eae4-4a9c-a18e-57b5414241c5",
   "metadata": {},
   "outputs": [
    {
     "name": "stdin",
     "output_type": "stream",
     "text": [
      "Enter the no. of hexa decimal digits: 6\n"
     ]
    },
    {
     "name": "stdout",
     "output_type": "stream",
     "text": [
      "the number of decimal numbers represented by  6 hexa decimal places are: 16777216\n"
     ]
    }
   ],
   "source": [
    "num=int(input(\"Enter the no. of hexa decimal digits:\"))\n",
    "\n",
    "decimal_numbers=16**num\n",
    "print(\"the number of decimal numbers represented by \",num,\"hexa decimal places are:\",decimal_numbers)"
   ]
  }
 ],
 "metadata": {
  "kernelspec": {
   "display_name": "Python 3 (ipykernel)",
   "language": "python",
   "name": "python3"
  },
  "language_info": {
   "codemirror_mode": {
    "name": "ipython",
    "version": 3
   },
   "file_extension": ".py",
   "mimetype": "text/x-python",
   "name": "python",
   "nbconvert_exporter": "python",
   "pygments_lexer": "ipython3",
   "version": "3.12.7"
  }
 },
 "nbformat": 4,
 "nbformat_minor": 5
}
