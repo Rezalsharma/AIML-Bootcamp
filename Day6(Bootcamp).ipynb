{
 "cells": [
  {
   "cell_type": "markdown",
   "id": "2bc6cf0d-53d0-4bb0-ba08-d936a354f155",
   "metadata": {},
   "source": [
    "# Libraries:-"
   ]
  },
  {
   "cell_type": "code",
   "execution_count": 1,
   "id": "055800b1-9474-4021-9d01-fa1c08a0219a",
   "metadata": {},
   "outputs": [],
   "source": [
    "import numpy as np"
   ]
  },
  {
   "cell_type": "code",
   "execution_count": 2,
   "id": "9a6af9cc-4905-4022-88d3-5a9ee184e435",
   "metadata": {},
   "outputs": [
    {
     "name": "stdout",
     "output_type": "stream",
     "text": [
      "[[[1 2]\n",
      "  [1 2]]\n",
      "\n",
      " [[1 2]\n",
      "  [1 2]]]\n"
     ]
    }
   ],
   "source": [
    "list = np.array([     [[1,2],[1,2]],      [[1,2],[1,2]]    ])\n",
    "\n",
    "print(list)"
   ]
  },
  {
   "cell_type": "code",
   "execution_count": 4,
   "id": "901b8c97-9fbb-4b12-a91b-e677cbe62e4e",
   "metadata": {},
   "outputs": [
    {
     "name": "stdout",
     "output_type": "stream",
     "text": [
      "[1 2 3] \n",
      "\n",
      "[1 2 3] \n",
      "\n",
      "[[1 2 3]\n",
      " [4 5 6]] \n",
      "\n",
      "[[[ 1  2  3]\n",
      "  [ 4  5  6]]\n",
      "\n",
      " [[ 7  8  9]\n",
      "  [10 11 12]]] \n",
      "\n"
     ]
    }
   ],
   "source": [
    "arr1 = np.array([1,2,3])\n",
    "\n",
    "arr2 = np.array([1,2,3])\n",
    "\n",
    "arr3 = np.array([1,2,3,5,6,7,8,9,10])\n",
    "\n",
    "arr2D = np.array([[1,2,3],[4,5,6]])\n",
    "\n",
    "arr3D = np.array([[[1,2,3],[4,5,6]],[[7,8,9],[10,11,12]]])\n",
    "\n",
    "print(arr1,\"\\n\")\n",
    "\n",
    "print(arr2,\"\\n\")\n",
    "\n",
    "print(arr2D,\"\\n\")\n",
    "\n",
    "print(arr3D,\"\\n\")"
   ]
  },
  {
   "cell_type": "code",
   "execution_count": 5,
   "id": "5a86b5f5-5d71-4f85-8643-b68fb50aff7e",
   "metadata": {},
   "outputs": [
    {
     "name": "stdout",
     "output_type": "stream",
     "text": [
      "[2 4 6]\n",
      "[0 0 0]\n",
      "[1 4 9]\n",
      "[1. 1. 1.]\n"
     ]
    }
   ],
   "source": [
    "arraySum = arr1 + arr2\n",
    "\n",
    "arrayDiff = arr1 - arr2\n",
    "\n",
    "arrayProduct = arr1 * arr2\n",
    "\n",
    "arrayQuotient = arr1 / arr2 \n",
    "\n",
    "print(arraySum)\n",
    "\n",
    "print(arrayDiff)    \n",
    "\n",
    "print(arrayProduct)\n",
    "\n",
    "print(arrayQuotient)"
   ]
  },
  {
   "cell_type": "code",
   "execution_count": 6,
   "id": "9c706619-f678-4f83-9dc1-8336b3654012",
   "metadata": {},
   "outputs": [
    {
     "name": "stdout",
     "output_type": "stream",
     "text": [
      "(3,)\n",
      "(2, 3)\n",
      "(2, 2, 3)\n",
      "1\n",
      "2\n",
      "3\n"
     ]
    }
   ],
   "source": [
    "print(arr1.shape) \n",
    "\n",
    "print(arr2D.shape)\n",
    "\n",
    "print(arr3D.shape) \n",
    "\n",
    "print(arr1.ndim) \n",
    "\n",
    "print(arr2D.ndim)\n",
    "\n",
    "print(arr3D.ndim)"
   ]
  },
  {
   "cell_type": "code",
   "execution_count": 7,
   "id": "2fb942a0-9071-4451-986b-30d7da360d62",
   "metadata": {},
   "outputs": [
    {
     "name": "stdout",
     "output_type": "stream",
     "text": [
      "[1 5 8]\n"
     ]
    }
   ],
   "source": [
    "# slicing\n",
    "\n",
    "print(arr3[0:10:3])"
   ]
  },
  {
   "cell_type": "code",
   "execution_count": 8,
   "id": "88dc59c7-8575-4448-b9ca-a809f5f910f0",
   "metadata": {},
   "outputs": [
    {
     "name": "stdout",
     "output_type": "stream",
     "text": [
      "0    2\n",
      "1    2\n",
      "2    2\n",
      "3    3\n",
      "4    4\n",
      "5    5\n",
      "dtype: int64\n"
     ]
    }
   ],
   "source": [
    "import pandas as pd\n",
    "\n",
    "# vectors - one dimension arrays\n",
    "data = [2,2,2,3,4,5]\n",
    "\n",
    "series = pd.Series(data) # index is auto-generated\n",
    "print(series)"
   ]
  },
  {
   "cell_type": "code",
   "execution_count": 9,
   "id": "6c56739e-b3f1-44a6-8ee4-9aed25e1958e",
   "metadata": {},
   "outputs": [
    {
     "name": "stdout",
     "output_type": "stream",
     "text": [
      "   a  b  c   d   e\n",
      "0  1  4  7  10  13\n",
      "1  2  5  8  11  14\n",
      "2  3  6  9  12  15\n"
     ]
    }
   ],
   "source": [
    "data = {\n",
    "    'a': [1,2,3],    \n",
    "    'b': [4,5,6],\n",
    "    'c': [7,8,9],\n",
    "    'd': [10,11,12],\n",
    "    'e': [13,14,15],\n",
    "}\n",
    "\n",
    "df = pd.DataFrame(data) # \n",
    "print(df)"
   ]
  },
  {
   "cell_type": "code",
   "execution_count": 10,
   "id": "6e5d3212-1430-43ec-ade0-40255dffb5ae",
   "metadata": {},
   "outputs": [],
   "source": [
    "df.to_csv('data.csv')"
   ]
  },
  {
   "cell_type": "code",
   "execution_count": 11,
   "id": "e2ab650e-1317-4210-9c77-3fc4d39df001",
   "metadata": {},
   "outputs": [
    {
     "name": "stdout",
     "output_type": "stream",
     "text": [
      "   c   d   e\n",
      "0  7  10  13\n",
      "1  8  11  14\n",
      "2  9  12  15\n"
     ]
    }
   ],
   "source": [
    "df1 = df.drop(columns=['a','b']) # drop columns a and b\n",
    "print(df1)"
   ]
  },
  {
   "cell_type": "code",
   "execution_count": 12,
   "id": "6731328d-35fb-45df-86cf-5a0d195c6c1f",
   "metadata": {},
   "outputs": [
    {
     "name": "stdout",
     "output_type": "stream",
     "text": [
      "   Unnamed: 0  a  b  c   d   e\n",
      "0           0  1  4  7  10  13\n",
      "1           1  2  5  8  11  14\n",
      "2           2  3  6  9  12  15\n"
     ]
    }
   ],
   "source": [
    "df3 = pd.read_csv('data.csv') # read csv file\n",
    "print(df3)"
   ]
  },
  {
   "cell_type": "code",
   "execution_count": 13,
   "id": "a600b5a4-c55a-4a43-a0b7-19733cb6dd10",
   "metadata": {},
   "outputs": [
    {
     "data": {
      "text/html": [
       "<div>\n",
       "<style scoped>\n",
       "    .dataframe tbody tr th:only-of-type {\n",
       "        vertical-align: middle;\n",
       "    }\n",
       "\n",
       "    .dataframe tbody tr th {\n",
       "        vertical-align: top;\n",
       "    }\n",
       "\n",
       "    .dataframe thead th {\n",
       "        text-align: right;\n",
       "    }\n",
       "</style>\n",
       "<table border=\"1\" class=\"dataframe\">\n",
       "  <thead>\n",
       "    <tr style=\"text-align: right;\">\n",
       "      <th></th>\n",
       "      <th>c</th>\n",
       "      <th>d</th>\n",
       "      <th>e</th>\n",
       "    </tr>\n",
       "  </thead>\n",
       "  <tbody>\n",
       "    <tr>\n",
       "      <th>0</th>\n",
       "      <td>7</td>\n",
       "      <td>10</td>\n",
       "      <td>13</td>\n",
       "    </tr>\n",
       "    <tr>\n",
       "      <th>1</th>\n",
       "      <td>8</td>\n",
       "      <td>11</td>\n",
       "      <td>14</td>\n",
       "    </tr>\n",
       "    <tr>\n",
       "      <th>2</th>\n",
       "      <td>9</td>\n",
       "      <td>12</td>\n",
       "      <td>15</td>\n",
       "    </tr>\n",
       "  </tbody>\n",
       "</table>\n",
       "</div>"
      ],
      "text/plain": [
       "   c   d   e\n",
       "0  7  10  13\n",
       "1  8  11  14\n",
       "2  9  12  15"
      ]
     },
     "execution_count": 13,
     "metadata": {},
     "output_type": "execute_result"
    }
   ],
   "source": [
    "df1.head()"
   ]
  },
  {
   "cell_type": "code",
   "execution_count": 14,
   "id": "358eb420-a847-4112-a55e-9efb2880be0b",
   "metadata": {},
   "outputs": [
    {
     "name": "stdout",
     "output_type": "stream",
     "text": [
      "<class 'pandas.core.frame.DataFrame'>\n",
      "RangeIndex: 3 entries, 0 to 2\n",
      "Data columns (total 3 columns):\n",
      " #   Column  Non-Null Count  Dtype\n",
      "---  ------  --------------  -----\n",
      " 0   c       3 non-null      int64\n",
      " 1   d       3 non-null      int64\n",
      " 2   e       3 non-null      int64\n",
      "dtypes: int64(3)\n",
      "memory usage: 204.0 bytes\n"
     ]
    }
   ],
   "source": [
    "df1.info()"
   ]
  },
  {
   "cell_type": "code",
   "execution_count": 15,
   "id": "72251140-c920-43c4-a13f-cbc440a11239",
   "metadata": {},
   "outputs": [
    {
     "data": {
      "text/plain": [
       "<bound method NDFrame.describe of    c   d   e\n",
       "0  7  10  13\n",
       "1  8  11  14\n",
       "2  9  12  15>"
      ]
     },
     "execution_count": 15,
     "metadata": {},
     "output_type": "execute_result"
    }
   ],
   "source": [
    "df1.describe"
   ]
  }
 ],
 "metadata": {
  "kernelspec": {
   "display_name": "Python 3 (ipykernel)",
   "language": "python",
   "name": "python3"
  },
  "language_info": {
   "codemirror_mode": {
    "name": "ipython",
    "version": 3
   },
   "file_extension": ".py",
   "mimetype": "text/x-python",
   "name": "python",
   "nbconvert_exporter": "python",
   "pygments_lexer": "ipython3",
   "version": "3.12.7"
  }
 },
 "nbformat": 4,
 "nbformat_minor": 5
}
